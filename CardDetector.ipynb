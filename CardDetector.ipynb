{
 "cells": [
  {
   "cell_type": "code",
   "execution_count": 1,
   "id": "4f51af8c",
   "metadata": {
    "_cell_guid": "b1076dfc-b9ad-4769-8c92-a6c4dae69d19",
    "_uuid": "8f2839f25d086af736a60e9eeb907d3b93b6e0e5",
    "execution": {
     "iopub.execute_input": "2024-04-07T18:33:12.010731Z",
     "iopub.status.busy": "2024-04-07T18:33:12.009983Z",
     "iopub.status.idle": "2024-04-07T18:33:20.240884Z",
     "shell.execute_reply": "2024-04-07T18:33:20.240132Z"
    },
    "papermill": {
     "duration": 8.239497,
     "end_time": "2024-04-07T18:33:20.243166",
     "exception": false,
     "start_time": "2024-04-07T18:33:12.003669",
     "status": "completed"
    },
    "tags": []
   },
   "outputs": [],
   "source": [
    "import torch\n",
    "import torch.nn as nn\n",
    "import torch.optim as optim\n",
    "from torch.utils.data import Dataset, DataLoader\n",
    "import torchvision.transforms as transforms\n",
    "from torchvision.datasets import ImageFolder\n",
    "import timm\n",
    "import sys\n",
    "\n",
    "import matplotlib.pyplot as plt\n",
    "import pandas as pd\n",
    "import numpy as np"
   ]
  },
  {
   "cell_type": "code",
   "execution_count": 2,
   "id": "ab601ffa",
   "metadata": {
    "execution": {
     "iopub.execute_input": "2024-04-07T18:33:20.254037Z",
     "iopub.status.busy": "2024-04-07T18:33:20.253585Z",
     "iopub.status.idle": "2024-04-07T18:33:20.258917Z",
     "shell.execute_reply": "2024-04-07T18:33:20.258054Z"
    },
    "papermill": {
     "duration": 0.013113,
     "end_time": "2024-04-07T18:33:20.261020",
     "exception": false,
     "start_time": "2024-04-07T18:33:20.247907",
     "status": "completed"
    },
    "tags": []
   },
   "outputs": [
    {
     "name": "stdout",
     "output_type": "stream",
     "text": [
      "SYSTEM Version:  3.10.13 | packaged by conda-forge | (main, Dec 23 2023, 15:36:39) [GCC 12.3.0]\n",
      "PyTorch Version:  2.1.2\n",
      "Numpy Version:  1.26.4\n",
      "Pandas Version:  2.2.1\n"
     ]
    }
   ],
   "source": [
    "print('SYSTEM Version: ', sys.version)\n",
    "print('PyTorch Version: ', torch.__version__)\n",
    "# print('Torchvision Version: ', torchvision.__version__)\n",
    "print('Numpy Version: ', np.__version__)\n",
    "print('Pandas Version: ', pd.__version__)"
   ]
  },
  {
   "cell_type": "markdown",
   "id": "9a87f3ad",
   "metadata": {
    "papermill": {
     "duration": 0.004078,
     "end_time": "2024-04-07T18:33:20.269558",
     "exception": false,
     "start_time": "2024-04-07T18:33:20.265480",
     "status": "completed"
    },
    "tags": []
   },
   "source": [
    "# Pytorch Dataset\n",
    "import data"
   ]
  },
  {
   "cell_type": "code",
   "execution_count": 3,
   "id": "007858be",
   "metadata": {
    "execution": {
     "iopub.execute_input": "2024-04-07T18:33:20.279478Z",
     "iopub.status.busy": "2024-04-07T18:33:20.278988Z",
     "iopub.status.idle": "2024-04-07T18:33:20.282682Z",
     "shell.execute_reply": "2024-04-07T18:33:20.281878Z"
    },
    "papermill": {
     "duration": 0.010728,
     "end_time": "2024-04-07T18:33:20.284635",
     "exception": false,
     "start_time": "2024-04-07T18:33:20.273907",
     "status": "completed"
    },
    "tags": []
   },
   "outputs": [],
   "source": [
    "data_dir = '/kaggle/input/cards-image-datasetclassification/train'\n"
   ]
  },
  {
   "cell_type": "code",
   "execution_count": 4,
   "id": "61dff801",
   "metadata": {
    "execution": {
     "iopub.execute_input": "2024-04-07T18:33:20.294313Z",
     "iopub.status.busy": "2024-04-07T18:33:20.293890Z",
     "iopub.status.idle": "2024-04-07T18:33:20.299373Z",
     "shell.execute_reply": "2024-04-07T18:33:20.298587Z"
    },
    "papermill": {
     "duration": 0.012271,
     "end_time": "2024-04-07T18:33:20.301197",
     "exception": false,
     "start_time": "2024-04-07T18:33:20.288926",
     "status": "completed"
    },
    "tags": []
   },
   "outputs": [],
   "source": [
    "class PlayingCardDataset(Dataset):\n",
    "    def __init__(self, data_dir, transform=None):\n",
    "        self.data = ImageFolder(data_dir, transform=transform)\n",
    "    def __len__(self):\n",
    "        return len(self.data)\n",
    "    def __getitem__(self, idx):\n",
    "        return self.data[idx]\n",
    "    \n",
    "    @property\n",
    "    def clases(self):\n",
    "        return self.data.classes\n",
    "    "
   ]
  },
  {
   "cell_type": "code",
   "execution_count": 5,
   "id": "107f5539",
   "metadata": {
    "execution": {
     "iopub.execute_input": "2024-04-07T18:33:20.311029Z",
     "iopub.status.busy": "2024-04-07T18:33:20.310525Z",
     "iopub.status.idle": "2024-04-07T18:33:22.693106Z",
     "shell.execute_reply": "2024-04-07T18:33:22.692323Z"
    },
    "papermill": {
     "duration": 2.38978,
     "end_time": "2024-04-07T18:33:22.695293",
     "exception": false,
     "start_time": "2024-04-07T18:33:20.305513",
     "status": "completed"
    },
    "tags": []
   },
   "outputs": [],
   "source": [
    "dataset = PlayingCardDataset(\n",
    "    data_dir = '/kaggle/input/cards-image-datasetclassification/train'\n",
    ")"
   ]
  },
  {
   "cell_type": "code",
   "execution_count": 6,
   "id": "b2f3a2e9",
   "metadata": {
    "execution": {
     "iopub.execute_input": "2024-04-07T18:33:22.705769Z",
     "iopub.status.busy": "2024-04-07T18:33:22.705089Z",
     "iopub.status.idle": "2024-04-07T18:33:22.711374Z",
     "shell.execute_reply": "2024-04-07T18:33:22.710546Z"
    },
    "papermill": {
     "duration": 0.013419,
     "end_time": "2024-04-07T18:33:22.713312",
     "exception": false,
     "start_time": "2024-04-07T18:33:22.699893",
     "status": "completed"
    },
    "tags": []
   },
   "outputs": [
    {
     "data": {
      "text/plain": [
       "7624"
      ]
     },
     "execution_count": 6,
     "metadata": {},
     "output_type": "execute_result"
    }
   ],
   "source": [
    "len(dataset)"
   ]
  },
  {
   "cell_type": "code",
   "execution_count": 7,
   "id": "ca42fb97",
   "metadata": {
    "execution": {
     "iopub.execute_input": "2024-04-07T18:33:22.723329Z",
     "iopub.status.busy": "2024-04-07T18:33:22.723048Z",
     "iopub.status.idle": "2024-04-07T18:33:22.741310Z",
     "shell.execute_reply": "2024-04-07T18:33:22.740394Z"
    },
    "papermill": {
     "duration": 0.025553,
     "end_time": "2024-04-07T18:33:22.743296",
     "exception": false,
     "start_time": "2024-04-07T18:33:22.717743",
     "status": "completed"
    },
    "tags": []
   },
   "outputs": [
    {
     "name": "stdout",
     "output_type": "stream",
     "text": [
      "41\n"
     ]
    },
    {
     "data": {
      "text/plain": [
       "PIL.Image.Image"
      ]
     },
     "execution_count": 7,
     "metadata": {},
     "output_type": "execute_result"
    }
   ],
   "source": [
    "image, label = dataset[6000]\n",
    "print(label)\n",
    "type(image)"
   ]
  },
  {
   "cell_type": "code",
   "execution_count": 8,
   "id": "b0569588",
   "metadata": {
    "execution": {
     "iopub.execute_input": "2024-04-07T18:33:22.753854Z",
     "iopub.status.busy": "2024-04-07T18:33:22.753595Z",
     "iopub.status.idle": "2024-04-07T18:33:22.825583Z",
     "shell.execute_reply": "2024-04-07T18:33:22.824488Z"
    },
    "papermill": {
     "duration": 0.079412,
     "end_time": "2024-04-07T18:33:22.827498",
     "exception": false,
     "start_time": "2024-04-07T18:33:22.748086",
     "status": "completed"
    },
    "tags": []
   },
   "outputs": [
    {
     "name": "stdout",
     "output_type": "stream",
     "text": [
      "{0: 'ace of clubs', 1: 'ace of diamonds', 2: 'ace of hearts', 3: 'ace of spades', 4: 'eight of clubs', 5: 'eight of diamonds', 6: 'eight of hearts', 7: 'eight of spades', 8: 'five of clubs', 9: 'five of diamonds', 10: 'five of hearts', 11: 'five of spades', 12: 'four of clubs', 13: 'four of diamonds', 14: 'four of hearts', 15: 'four of spades', 16: 'jack of clubs', 17: 'jack of diamonds', 18: 'jack of hearts', 19: 'jack of spades', 20: 'joker', 21: 'king of clubs', 22: 'king of diamonds', 23: 'king of hearts', 24: 'king of spades', 25: 'nine of clubs', 26: 'nine of diamonds', 27: 'nine of hearts', 28: 'nine of spades', 29: 'queen of clubs', 30: 'queen of diamonds', 31: 'queen of hearts', 32: 'queen of spades', 33: 'seven of clubs', 34: 'seven of diamonds', 35: 'seven of hearts', 36: 'seven of spades', 37: 'six of clubs', 38: 'six of diamonds', 39: 'six of hearts', 40: 'six of spades', 41: 'ten of clubs', 42: 'ten of diamonds', 43: 'ten of hearts', 44: 'ten of spades', 45: 'three of clubs', 46: 'three of diamonds', 47: 'three of hearts', 48: 'three of spades', 49: 'two of clubs', 50: 'two of diamonds', 51: 'two of hearts', 52: 'two of spades'}\n"
     ]
    }
   ],
   "source": [
    "target_to_class =  {v: k for k,v in ImageFolder(data_dir).class_to_idx.items()}\n",
    "print(target_to_class)"
   ]
  },
  {
   "cell_type": "code",
   "execution_count": 9,
   "id": "410fc6ed",
   "metadata": {
    "execution": {
     "iopub.execute_input": "2024-04-07T18:33:22.838041Z",
     "iopub.status.busy": "2024-04-07T18:33:22.837786Z",
     "iopub.status.idle": "2024-04-07T18:33:22.908584Z",
     "shell.execute_reply": "2024-04-07T18:33:22.907544Z"
    },
    "papermill": {
     "duration": 0.078715,
     "end_time": "2024-04-07T18:33:22.910998",
     "exception": false,
     "start_time": "2024-04-07T18:33:22.832283",
     "status": "completed"
    },
    "tags": []
   },
   "outputs": [],
   "source": [
    "transform = transforms.Compose([\n",
    "    transforms.Resize([128,128]),\n",
    "    transforms.ToTensor(),\n",
    "])\n",
    "dataset = PlayingCardDataset(data_dir, transform)"
   ]
  },
  {
   "cell_type": "code",
   "execution_count": 10,
   "id": "bf5abcc7",
   "metadata": {
    "execution": {
     "iopub.execute_input": "2024-04-07T18:33:22.922308Z",
     "iopub.status.busy": "2024-04-07T18:33:22.921708Z",
     "iopub.status.idle": "2024-04-07T18:33:22.971606Z",
     "shell.execute_reply": "2024-04-07T18:33:22.970661Z"
    },
    "papermill": {
     "duration": 0.057477,
     "end_time": "2024-04-07T18:33:22.973542",
     "exception": false,
     "start_time": "2024-04-07T18:33:22.916065",
     "status": "completed"
    },
    "tags": []
   },
   "outputs": [
    {
     "name": "stdout",
     "output_type": "stream",
     "text": [
      "0\n"
     ]
    },
    {
     "data": {
      "text/plain": [
       "torch.Size([3, 128, 128])"
      ]
     },
     "execution_count": 10,
     "metadata": {},
     "output_type": "execute_result"
    }
   ],
   "source": [
    "image, label = dataset[100]\n",
    "print(label)\n",
    "image.shape"
   ]
  },
  {
   "cell_type": "code",
   "execution_count": null,
   "id": "35e97356",
   "metadata": {
    "papermill": {
     "duration": 0.005157,
     "end_time": "2024-04-07T18:33:22.984461",
     "exception": false,
     "start_time": "2024-04-07T18:33:22.979304",
     "status": "completed"
    },
    "tags": []
   },
   "outputs": [],
   "source": [
    "Test1\n"
   ]
  },
  {
   "cell_type": "code",
   "execution_count": null,
   "id": "b264f3e2",
   "metadata": {
    "papermill": {
     "duration": 0.004634,
     "end_time": "2024-04-07T18:33:22.993935",
     "exception": false,
     "start_time": "2024-04-07T18:33:22.989301",
     "status": "completed"
    },
    "tags": []
   },
   "outputs": [],
   "source": []
  },
  {
   "cell_type": "code",
   "execution_count": null,
   "id": "6e5c86f9",
   "metadata": {
    "papermill": {
     "duration": 0.005635,
     "end_time": "2024-04-07T18:33:23.004411",
     "exception": false,
     "start_time": "2024-04-07T18:33:22.998776",
     "status": "completed"
    },
    "tags": []
   },
   "outputs": [],
   "source": []
  },
  {
   "cell_type": "code",
   "execution_count": null,
   "id": "201dafb7",
   "metadata": {
    "papermill": {
     "duration": 0.004658,
     "end_time": "2024-04-07T18:33:23.013895",
     "exception": false,
     "start_time": "2024-04-07T18:33:23.009237",
     "status": "completed"
    },
    "tags": []
   },
   "outputs": [],
   "source": []
  }
 ],
 "metadata": {
  "kaggle": {
   "accelerator": "gpu",
   "dataSources": [
    {
     "datasetId": 2579480,
     "sourceId": 4532039,
     "sourceType": "datasetVersion"
    }
   ],
   "dockerImageVersionId": 30674,
   "isGpuEnabled": true,
   "isInternetEnabled": true,
   "language": "python",
   "sourceType": "notebook"
  },
  "kernelspec": {
   "display_name": "Python 3",
   "language": "python",
   "name": "python3"
  },
  "language_info": {
   "codemirror_mode": {
    "name": "ipython",
    "version": 3
   },
   "file_extension": ".py",
   "mimetype": "text/x-python",
   "name": "python",
   "nbconvert_exporter": "python",
   "pygments_lexer": "ipython3",
   "version": "3.10.13"
  },
  "papermill": {
   "default_parameters": {},
   "duration": 16.107618,
   "end_time": "2024-04-07T18:33:25.428153",
   "environment_variables": {},
   "exception": null,
   "input_path": "__notebook__.ipynb",
   "output_path": "__notebook__.ipynb",
   "parameters": {},
   "start_time": "2024-04-07T18:33:09.320535",
   "version": "2.5.0"
  }
 },
 "nbformat": 4,
 "nbformat_minor": 5
}
